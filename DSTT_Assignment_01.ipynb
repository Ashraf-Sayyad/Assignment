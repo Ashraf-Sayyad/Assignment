{
  "nbformat": 4,
  "nbformat_minor": 0,
  "metadata": {
    "colab": {
      "provenance": [],
      "authorship_tag": "ABX9TyP728NJj2T2HLIQR+GVGhiT",
      "include_colab_link": true
    },
    "kernelspec": {
      "name": "python3",
      "display_name": "Python 3"
    },
    "language_info": {
      "name": "python"
    }
  },
  "cells": [
    {
      "cell_type": "markdown",
      "metadata": {
        "id": "view-in-github",
        "colab_type": "text"
      },
      "source": [
        "<a href=\"https://colab.research.google.com/github/Ashraf-Sayyad/Assignment/blob/main/DSTT_Assignment_01.ipynb\" target=\"_parent\"><img src=\"https://colab.research.google.com/assets/colab-badge.svg\" alt=\"Open In Colab\"/></a>"
      ]
    },
    {
      "cell_type": "code",
      "source": [
        "#Solution_01\n",
        "n = int(input())  \n",
        "a = list(map(int, input().split()))  \n",
        "result = [a[i]*a[::-1][i] for i in range(n)]\n",
        "print(*result)"
      ],
      "metadata": {
        "id": "BsMMYG8lM0nv",
        "colab": {
          "base_uri": "https://localhost:8080/"
        },
        "outputId": "6bc16ef3-2ce2-4814-c1f0-e2a562285b46"
      },
      "execution_count": 1,
      "outputs": [
        {
          "output_type": "stream",
          "name": "stdout",
          "text": [
            "3\n",
            "1 2 3\n",
            "3 4 3\n"
          ]
        }
      ]
    },
    {
      "cell_type": "code",
      "source": [
        "#Solution_02\n",
        "numbers = list(map(int, input().split()))\n",
        "numbers.sort()\n",
        "second_min = numbers[1]\n",
        "second_max = numbers[-2]\n",
        "print(second_max, second_min)"
      ],
      "metadata": {
        "colab": {
          "base_uri": "https://localhost:8080/"
        },
        "id": "woOlGWTYNie0",
        "outputId": "09202cda-fef5-4274-d8a3-095114a1f900"
      },
      "execution_count": 2,
      "outputs": [
        {
          "output_type": "stream",
          "name": "stdout",
          "text": [
            "1 2 3 4 5 6 7 8 9\n",
            "8 2\n"
          ]
        }
      ]
    },
    {
      "cell_type": "code",
      "source": [
        "#Solution_03\n",
        "A = list(map(int, input().strip().split()))\n",
        "non_multiples_of_5 = []\n",
        "\n",
        "for num in A:\n",
        "    if num % 5 != 0:\n",
        "        non_multiples_of_5.append(num)\n",
        "print(\" \".join(map(str, non_multiples_of_5)))"
      ],
      "metadata": {
        "colab": {
          "base_uri": "https://localhost:8080/"
        },
        "id": "85ckaxUzN2eu",
        "outputId": "763626a7-dfad-4e2e-f07c-d4b313d5b085"
      },
      "execution_count": 3,
      "outputs": [
        {
          "output_type": "stream",
          "name": "stdout",
          "text": [
            "12 3 5 4 50 25 10 100 56 51 78\n",
            "12 3 4 56 51 78\n"
          ]
        }
      ]
    },
    {
      "cell_type": "code",
      "source": [
        "#Solution_04\n",
        "num = input()\n",
        "num_zeros = num.count('0')\n",
        "num_ones = num.count('1')\n",
        "if num_zeros == 1 or num_ones == 1:\n",
        "    print('YES')\n",
        "else:\n",
        "    print('NO')"
      ],
      "metadata": {
        "colab": {
          "base_uri": "https://localhost:8080/"
        },
        "id": "X46qfkfRODs5",
        "outputId": "c26964b4-0f26-40b6-f75d-749032401dd6"
      },
      "execution_count": 4,
      "outputs": [
        {
          "output_type": "stream",
          "name": "stdout",
          "text": [
            "10100\n",
            "NO\n"
          ]
        }
      ]
    },
    {
      "cell_type": "code",
      "source": [
        "#Solution_05\n",
        "number = int(input(\"enter your number \"))\n",
        "factorial = 1\n",
        "while number > 0:\n",
        "     factorial = factorial * number\n",
        "     number = number - 1\n",
        "factorial"
      ],
      "metadata": {
        "colab": {
          "base_uri": "https://localhost:8080/"
        },
        "id": "s7ZMmg8tOVEb",
        "outputId": "d3d9a9ba-8f14-4a10-bc30-cff330c7d559"
      },
      "execution_count": 5,
      "outputs": [
        {
          "name": "stdout",
          "output_type": "stream",
          "text": [
            "enter your number 5\n"
          ]
        },
        {
          "output_type": "execute_result",
          "data": {
            "text/plain": [
              "120"
            ]
          },
          "metadata": {},
          "execution_count": 5
        }
      ]
    },
    {
      "cell_type": "code",
      "source": [
        "#Solution_06\n",
        "m, n = map(int, input().split(','))\n",
        "even_digit_nums = []\n",
        "for num in range(m, n+1):\n",
        "    if all(int(digit)%2 == 0 for digit in str(num)):\n",
        "        even_digit_nums.append(str(num))\n",
        "print(','.join(even_digit_nums))"
      ],
      "metadata": {
        "colab": {
          "base_uri": "https://localhost:8080/"
        },
        "id": "-87OxsEIOfZK",
        "outputId": "4bdcf6ea-3b11-4b42-9977-00207a131774"
      },
      "execution_count": 6,
      "outputs": [
        {
          "output_type": "stream",
          "name": "stdout",
          "text": [
            "10,100\n",
            "20,22,24,26,28,40,42,44,46,48,60,62,64,66,68,80,82,84,86,88\n"
          ]
        }
      ]
    }
  ]
}